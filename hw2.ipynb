{
 "cells": [
  {
   "cell_type": "code",
   "execution_count": 61,
   "metadata": {},
   "outputs": [],
   "source": [
    "# Import\n",
    "from collections import defaultdict\n",
    "import matplotlib.pyplot as pyt\n",
    "import re"
   ]
  },
  {
   "cell_type": "code",
   "execution_count": null,
   "metadata": {},
   "outputs": [],
   "source": []
  },
  {
   "cell_type": "code",
   "execution_count": 1082,
   "metadata": {},
   "outputs": [],
   "source": [
    "import itertools as it"
   ]
  },
  {
   "cell_type": "code",
   "execution_count": 83,
   "metadata": {},
   "outputs": [],
   "source": [
    "stopwords=open(\"stopwords.txt\")\n",
    "stop=[]\n",
    "for i in stopwords:\n",
    "    i=i.strip()\n",
    "    stop.append(i)"
   ]
  },
  {
   "cell_type": "code",
   "execution_count": 87,
   "metadata": {},
   "outputs": [],
   "source": [
    "import string\n",
    "# Define tokenize function: input str output list of tokens\n",
    "def tokenize(line):\n",
    "    return line.split()\n",
    "def better_tokenize(line):\n",
    "    ls_word=[]\n",
    "    for i in line.split():\n",
    "        i=i.strip(string.punctuation)\n",
    "        i=i.lower()\n",
    "        ls_word.append(i)\n",
    "    return ls_word"
   ]
  },
  {
   "cell_type": "code",
   "execution_count": 88,
   "metadata": {},
   "outputs": [
    {
     "data": {
      "text/plain": [
       "['sdas', \"it's\"]"
      ]
     },
     "execution_count": 88,
     "metadata": {},
     "output_type": "execute_result"
    }
   ],
   "source": [
    "better_tokenize(\"sdas it's\")"
   ]
  },
  {
   "cell_type": "code",
   "execution_count": 89,
   "metadata": {},
   "outputs": [],
   "source": [
    "train_x=open(\"X_train.txt\")\n",
    "train_y=open(\"y_train.txt\")\n",
    "dev_x=open(\"X_dev.txt\")\n",
    "dev_y=open(\"y_dev.txt\")"
   ]
  },
  {
   "cell_type": "code",
   "execution_count": 90,
   "metadata": {},
   "outputs": [],
   "source": [
    "# tokenize and development data\n",
    "trainx=list()\n",
    "trainy=list()\n",
    "for line in train_x:\n",
    "    line=tokenize(line)\n",
    "    trainx.append(line)\n",
    "for line in train_y:\n",
    "    line=int(line)\n",
    "    trainy.append(line)\n",
    "# Development\n",
    "devx=list()\n",
    "devy=list()\n",
    "for line in dev_x:\n",
    "    line=tokenize(line)\n",
    "    devx.append(line)\n",
    "for line in dev_y:\n",
    "    line=int(line)\n",
    "    devy.append(line)"
   ]
  },
  {
   "cell_type": "code",
   "execution_count": 1523,
   "metadata": {},
   "outputs": [
    {
     "data": {
      "text/plain": [
       "[]"
      ]
     },
     "execution_count": 1523,
     "metadata": {},
     "output_type": "execute_result"
    }
   ],
   "source": []
  },
  {
   "cell_type": "code",
   "execution_count": 677,
   "metadata": {
    "scrolled": false
   },
   "outputs": [],
   "source": [
    "# Counting bigrams\n",
    "bigram=defaultdict(int)\n",
    "for i in trainx:\n",
    "    for j in range(len(i)-2+1):\n",
    "        temp=tuple(i[j:j+2])\n",
    "        bigram[temp]+=1"
   ]
  },
  {
   "cell_type": "code",
   "execution_count": 678,
   "metadata": {},
   "outputs": [],
   "source": [
    "# Counting trigrams\n",
    "trigram=defaultdict(int)\n",
    "for i in trainx:\n",
    "    for j in range(len(i)-3+1):\n",
    "        temp=tuple(i[j:j+3])\n",
    "        trigram[temp]+=1"
   ]
  },
  {
   "cell_type": "code",
   "execution_count": 745,
   "metadata": {},
   "outputs": [],
   "source": [
    "# Couting unigrams\n",
    "unigram=defaultdict(int)\n",
    "for i in trainx:\n",
    "    for j in i:\n",
    "        unigram[j]+=1"
   ]
  },
  {
   "cell_type": "code",
   "execution_count": 680,
   "metadata": {},
   "outputs": [
    {
     "data": {
      "image/png": "[encoded data removed]",
      "text/plain": [
       "<Figure size 432x288 with 1 Axes>"
      ]
     },
     "metadata": {
      "needs_background": "light"
     },
     "output_type": "display_data"
    }
   ],
   "source": [
    "import math\n",
    "# Plot the frequency against rank\n",
    "frequencies=sorted(bigram.values(),reverse=True)\n",
    "rank=list(range(1,len(frequencies)+1))\n",
    "pyt.plot(list(map(math.log,rank)),list(map(math.log,frequencies)))\n",
    "pyt.title(\"Zipf's log rank-log frequencies plot for bigrams\")\n",
    "_=pyt.show()"
   ]
  },
  {
   "cell_type": "code",
   "execution_count": 681,
   "metadata": {},
   "outputs": [
    {
     "data": {
      "image/png": "[encoded data removed]",
      "text/plain": [
       "<Figure size 432x288 with 1 Axes>"
      ]
     },
     "metadata": {
      "needs_background": "light"
     },
     "output_type": "display_data"
    }
   ],
   "source": [
    "frequencies_tri=sorted(trigram.values(),reverse=True)\n",
    "rank_tri=list(range(1,len(frequencies_tri)+1))\n",
    "pyt.plot(list(map(math.log,rank_tri)),list(map(math.log,frequencies_tri)))\n",
    "pyt.title(\"Zipf's log rank-log frequencies plot for trigrams\")\n",
    "_=pyt.show()"
   ]
  },
  {
   "cell_type": "code",
   "execution_count": null,
   "metadata": {},
   "outputs": [],
   "source": []
  },
  {
   "cell_type": "code",
   "execution_count": 664,
   "metadata": {},
   "outputs": [],
   "source": [
    "#count_bigram,count_trigram,count_unigram=0,0,0\n",
    "#for i in devx:\n",
    " #   for t in i:\n",
    "  #      if unigram[t]==0: count_unigram+=1\n",
    "   # for j in it.combinations(i,2):\n",
    "    #    if bigram[j]==0: count_bigram+=1\n",
    "    #for k in it.combinations(i,3):\n",
    "     #   if trigram[k]==0: count_trigram+=1"
   ]
  },
  {
   "cell_type": "code",
   "execution_count": 1085,
   "metadata": {},
   "outputs": [],
   "source": [
    "#print(\"There are \",count_unigram,\"unigrams in the development data which did not appear in the training data\\n\",\n",
    " #     \"There are\",count_bigram,\"bigrams in the development data which did not appear in the training data\\n\",\n",
    "  #    \"There are\",count_trigram,\"trigrams in the development data which did not appear in the training data\"\n",
    "   #  )"
   ]
  },
  {
   "cell_type": "code",
   "execution_count": 1086,
   "metadata": {},
   "outputs": [],
   "source": [
    "# Try 5 as the threhold for both\n",
    "def token_(list_,bigram,trigram):\n",
    "    list_=better_tokenize(list_)\n",
    "    ls_word=[]\n",
    "    for i in list_:\n",
    "        ls_word.append(i)\n",
    "    for i in range(len(list_)-2+1):\n",
    "        if bigram[tuple(list_[i:i+2])]>=5:\n",
    "            ls_word.append(tuple(list_[i:i+2]))\n",
    "    for i in range(len(list_)-3+1):\n",
    "        if trigram[tuple(list_[i:i+3])]>=5:\n",
    "            ls_word.append(tuple(list_[i:i+3]))\n",
    "    return ls_word"
   ]
  },
  {
   "cell_type": "code",
   "execution_count": 1381,
   "metadata": {},
   "outputs": [],
   "source": [
    "\n",
    "train_x=open(\"X_train.txt\")\n",
    "train_y=open(\"y_train.txt\")\n",
    "dev_x=open(\"X_dev.txt\")\n",
    "dev_y=open(\"y_dev.txt\")\n",
    "trainx_=list()\n",
    "for line in train_x:\n",
    "    line=token_(line,bigram,trigram)\n",
    "    trainx_.append(line)\n",
    "# Development\n",
    "devx_=list()\n",
    "for line in dev_x:\n",
    "    line=token_(line,bigram,trigram)\n",
    "    devx_.append(line)"
   ]
  },
  {
   "cell_type": "code",
   "execution_count": 1517,
   "metadata": {},
   "outputs": [],
   "source": [
    "# Define train function: input training data, smoothing_aplha output probabilities\n",
    "# Size [Size, SizePositive, SizeNegative]\n",
    "def train(trainx,trainy):\n",
    "    length=len(trainx)\n",
    "    # Train data should be n*list \n",
    "    TotalWordsYes,TotalWordsNo,TotalWords=0,0,0\n",
    "    NumberofP,NumberofN=0,0\n",
    "    dictFeatures,dictFeaturesYes, dictFeaturesNo=defaultdict(int),defaultdict(int),defaultdict(int)\n",
    "    for i in range(length):\n",
    "        # For each list of token\n",
    "        # If y is 1\n",
    "        if trainy[i]==1:\n",
    "            # Positive tweets+=1\n",
    "            NumberofP+=1\n",
    "            # dive into every list of token\n",
    "            for j in range(len(trainx[i])):\n",
    "                # For every feature\n",
    "                f=trainx[i][j]\n",
    "                dictFeatures[f]+=1\n",
    "                dictFeaturesYes[f]+=1\n",
    "                TotalWordsYes+=1\n",
    "                TotalWords+=1\n",
    "        else:\n",
    "            # Negative tweets+=1\n",
    "            NumberofN+=1\n",
    "            for j in range(len(trainx[i])):\n",
    "                f=trainx[i][j]\n",
    "                dictFeatures[f]+=1\n",
    "                dictFeaturesNo[f]+=1\n",
    "                TotalWordsNo+=1\n",
    "                TotalWords+=1\n",
    "    dictTweets={\"0\":NumberofN/length,\"1\":NumberofP/length}\n",
    "    return dictFeatures,dictFeaturesYes,dictFeaturesNo,TotalWordsYes,TotalWordsNo,TotalWords,dictTweets\n",
    "    \n",
    "        "
   ]
  },
  {
   "cell_type": "code",
   "execution_count": 1503,
   "metadata": {},
   "outputs": [],
   "source": [
    "def train(trainx,trainy):\n",
    "    length=len(trainx)\n",
    "    # Train data should be n*list \n",
    "    NumberofP,NumberofN=0,0\n",
    "    dictFeatures,dictFeaturesYes, dictFeaturesNo=defaultdict(int),defaultdict(int),defaultdict(int)\n",
    "    for i in range(length):\n",
    "        # For each list of token\n",
    "        # If y is 1\n",
    "        if trainy[i]==1:\n",
    "            # Positive tweets+=1\n",
    "            NumberofP+=1\n",
    "            # dive into every list of token\n",
    "            temp=set(trainx[i])\n",
    "            for j in temp:\n",
    "                # For every feature\n",
    "                dictFeatures[j]+=1\n",
    "                dictFeaturesYes[j]+=1\n",
    "                dictFeaturesNo[j]+=0\n",
    "        else:\n",
    "            # Negative tweets+=1\n",
    "            NumberofN+=1\n",
    "            temp=set(trainx[i])\n",
    "            for j in temp:\n",
    "                dictFeatures[j]+=1\n",
    "                dictFeaturesNo[j]+=1\n",
    "                dictFeaturesYes[j]+=0\n",
    "    dictTweets={\"0\":NumberofN/length,\"1\":NumberofP/length}\n",
    "    return dictFeatures,dictFeaturesYes,dictFeaturesNo,dictTweets,length"
   ]
  },
  {
   "cell_type": "code",
   "execution_count": null,
   "metadata": {},
   "outputs": [],
   "source": []
  },
  {
   "cell_type": "code",
   "execution_count": 1609,
   "metadata": {},
   "outputs": [],
   "source": [
    "def smooth_hate(word,dictFeaturesYes,dictFeaturesNo,TotalWords,TotalWordsYes,alpha):\n",
    "    # if in not hate but in hate: 0\n",
    "    # all not in\n",
    "    return (dictFeaturesYes[word]+alpha)/(TotalWordsYes+alpha*TotalWords)"
   ]
  },
  {
   "cell_type": "code",
   "execution_count": 1610,
   "metadata": {},
   "outputs": [],
   "source": [
    "def smooth_no(word,dictFeaturesYes,dictFeaturesNo,TotalWords,TotalWordsNo,alpha):\n",
    "    # if in hate but not here: 0\n",
    "    # all not in\n",
    "    return (dictFeaturesNo[word]+alpha)/(TotalWordsNo+alpha*TotalWords)"
   ]
  },
  {
   "cell_type": "code",
   "execution_count": 1611,
   "metadata": {},
   "outputs": [],
   "source": [
    "def classifier(tokens,dictFeaturesYes,dictFeaturesNo,TotalWords,TotalWordsYes,TotalWordsNo,dictTweets,alpha):\n",
    "    tempP,tempN=1,1\n",
    "    # for each word in the list\n",
    "    for i in tokens:\n",
    "        # p(word|p)*p(p)\n",
    "        tempP=tempP*smooth_hate(i,dictFeaturesYes,dictFeaturesNo,TotalWords,TotalWordsYes,alpha)\n",
    "    tempP=tempP*dictTweets[\"1\"]\n",
    "    for i in tokens:\n",
    "        tempN=tempN*smooth_no(i,dictFeaturesYes,dictFeaturesNo,TotalWords,TotalWordsNo,alpha)\n",
    "    tempN=tempN*dictTweets[\"0\"]\n",
    "    if tempP>=tempN: return 1\n",
    "    else: return 0"
   ]
  },
  {
   "cell_type": "code",
   "execution_count": 1612,
   "metadata": {},
   "outputs": [],
   "source": [
    "def evaluate(devx,dexy,dictFeaturesYes,dictFeaturesNo,TotalWords,TotalWordsYes,TotalWordsNo,dictTweets,alpha):\n",
    "    truePositive,falsePositive, trueNegative, falseNegative=0,0,0,0\n",
    "    for i in range(len(devx)):\n",
    "        class_=classifier(devx[i],dictFeaturesYes,dictFeaturesNo,TotalWords,TotalWordsYes,TotalWordsNo,dictTweets,alpha)\n",
    "        if class_==devy[i] and class_==1: truePositive+=1\n",
    "        elif class_==devy[i] and class_==0: trueNegative+=1\n",
    "        elif class_!=devy[i] and class_==1: falsePositive+=1\n",
    "        else: falseNegative+=1\n",
    "    # Precision\n",
    "    precision=truePositive/(truePositive+falsePositive)\n",
    "    # Recall \n",
    "    recall=truePositive/(truePositive+falseNegative)\n",
    "    # F\n",
    "    f1=2*precision*recall/(precision+recall)\n",
    "    return f1,truePositive,trueNegative"
   ]
  },
  {
   "cell_type": "code",
   "execution_count": 1614,
   "metadata": {},
   "outputs": [
    {
     "data": {
      "text/plain": [
       "(0.7437185929648241, 592, 1000)"
      ]
     },
     "execution_count": 1614,
     "metadata": {},
     "output_type": "execute_result"
    }
   ],
   "source": [
    "dictFeatures,dictFeaturesYes,dictFeaturesNo,Yes,No,Total,tweets=train(trainx,trainy)\n",
    "evaluate(devx,devy,dictFeaturesYes,dictFeaturesNo,Total,Yes,No,tweets,0.2)"
   ]
  },
  {
   "cell_type": "code",
   "execution_count": null,
   "metadata": {},
   "outputs": [],
   "source": []
  },
  {
   "cell_type": "code",
   "execution_count": 1396,
   "metadata": {},
   "outputs": [],
   "source": [
    "import math\n",
    "# define a function classify input list of tokens output class if highest posterior\n",
    "def classify(tokens,dictFeaturesYes,dictFeaturesNo):\n",
    "    tempP,tempN=1,1\n",
    "    # for each word in the list\n",
    "    for i in tokens:\n",
    "        # p(word|p)*p(p)\n",
    "        tempP=tempP*dictFeaturesYes[i]\n",
    "    tempP=tempP*dictTweets[\"1\"]\n",
    "    for i in tokens:\n",
    "        tempN=tempN*dictFeaturesNo[i]\n",
    "    tempN=tempN*dictTweets[\"0\"]\n",
    "  #  print(tempP,tempN)\n",
    "    if tempP>=tempN: return 1\n",
    "    else: return 0"
   ]
  },
  {
   "cell_type": "code",
   "execution_count": 1267,
   "metadata": {},
   "outputs": [
    {
     "data": {
      "text/plain": [
       "1e-20"
      ]
     },
     "execution_count": 1267,
     "metadata": {},
     "output_type": "execute_result"
    }
   ],
   "source": [
    "math.pow(10,-20)"
   ]
  },
  {
   "cell_type": "code",
   "execution_count": 1344,
   "metadata": {},
   "outputs": [],
   "source": [
    "def classify(tokens,dictFeaturesYes,dictFeaturesNo):\n",
    "    tempP,tempN=0,0\n",
    "    # for each word in the list\n",
    "    for i in set(tokens):\n",
    "        # p(word|p)*p(p)\n",
    "      #  print(dictFeaturesYes[i],i)\n",
    "        tempP=tempP+math.log(dictFeaturesYes[i])\n",
    "    tempP=tempP+math.log(dictTweets[\"1\"])\n",
    "    for i in set(tokens):\n",
    "        tempN=tempN+math.log(dictFeaturesNo[i])\n",
    "    tempN=tempN+math.log(dictTweets[\"0\"])\n",
    "    print(tempP,tempN)\n",
    "    if tempP>=tempN: return 1\n",
    "    else: return 0"
   ]
  },
  {
   "cell_type": "code",
   "execution_count": 1410,
   "metadata": {},
   "outputs": [],
   "source": [
    "#Development data \n",
    "def fscore(devx,dexy,dictTweets):\n",
    "    truePositive,falsePositive, trueNegative, falseNegative=0,0,0,0\n",
    "    for i in range(len(devx)):\n",
    "        class_=classify(devx[i],dictFeaturesYes,dictFeaturesNo)\n",
    "        if class_==devy[i] and class_==1: truePositive+=1\n",
    "        elif class_==devy[i] and class_==0: trueNegative+=1\n",
    "        elif class_!=devy[i] and class_==1: falsePositive+=1\n",
    "        else: falseNegative+=1\n",
    "    # Precision\n",
    "    precision=truePositive/(truePositive+falsePositive)\n",
    "    # Recall \n",
    "    recall=truePositive/(truePositive+falseNegative)\n",
    "    # F\n",
    "    f1=2*precision*recall/(precision+recall)\n",
    "    return f1,truePositive,trueNegative"
   ]
  },
  {
   "cell_type": "code",
   "execution_count": 1569,
   "metadata": {},
   "outputs": [],
   "source": [
    "# plot\n",
    "import numpy as np\n",
    "alphas=np.arange(0,5,0.1)\n",
    "performance=[]\n",
    "for i in alphas:\n",
    "    dictFeatures,dictFeaturesYes,dictFeaturesNo,Yes,No,Total,tweets=train(trainx,trainy)\n",
    "    f=evaluate(devx,devy,dictFeaturesYes,dictFeaturesNo,Total,Yes,No,tweets,i)\n",
    "    performance.append(f)"
   ]
  },
  {
   "cell_type": "code",
   "execution_count": 1573,
   "metadata": {},
   "outputs": [],
   "source": [
    "perf=[]\n",
    "for i in performance:\n",
    "    perf.append(i[1]+i[2])"
   ]
  },
  {
   "cell_type": "code",
   "execution_count": 1574,
   "metadata": {},
   "outputs": [
    {
     "data": {
      "image/png": "[encoded data removed]",
      "text/plain": [
       "<Figure size 432x288 with 1 Axes>"
      ]
     },
     "metadata": {
      "needs_background": "light"
     },
     "output_type": "display_data"
    }
   ],
   "source": [
    "pyt.plot(alphas,perf)\n",
    "pyt.xlabel(\"smoothing_alphas\")\n",
    "pyt.ylabel(\"performance_f1\")\n",
    "_=pyt.show()"
   ]
  },
  {
   "cell_type": "code",
   "execution_count": 1572,
   "metadata": {},
   "outputs": [
    {
     "data": {
      "text/plain": [
       "[(0.5934065934065934, 729, 272),\n",
       " (0.7389221556886227, 617, 947),\n",
       " (0.7437185929648241, 592, 1000),\n",
       " (0.7329842931937174, 560, 1032),\n",
       " (0.7283783783783785, 539, 1059),\n",
       " (0.7153792623521226, 514, 1077),\n",
       " (0.7025089605734768, 490, 1095),\n",
       " (0.6834319526627219, 462, 1110),\n",
       " (0.6564651874521805, 429, 1122),\n",
       " (0.6331500392772976, 403, 1130),\n",
       " (0.6164931945556444, 385, 1136),\n",
       " (0.6087662337662337, 375, 1143),\n",
       " (0.5862923203963666, 355, 1144),\n",
       " (0.5661331086773378, 336, 1149),\n",
       " (0.5584970111016225, 327, 1156),\n",
       " (0.5356521739130435, 308, 1158),\n",
       " (0.5137289636846767, 290, 1161),\n",
       " (0.5049063336306868, 283, 1162),\n",
       " (0.49910233393177733, 278, 1164),\n",
       " (0.48683015440508626, 268, 1167),\n",
       " (0.47155963302752296, 257, 1167),\n",
       " (0.4602587800369686, 249, 1167),\n",
       " (0.44652908067542213, 238, 1172),\n",
       " (0.4326375711574952, 228, 1174),\n",
       " (0.4240687679083095, 222, 1175),\n",
       " (0.41538461538461535, 216, 1176),\n",
       " (0.41005802707930367, 212, 1178),\n",
       " (0.3917727717923605, 200, 1179),\n",
       " (0.3842364532019705, 195, 1180),\n",
       " (0.37623762376237624, 190, 1180),\n",
       " (0.3714001986097319, 187, 1180),\n",
       " (0.3616383616383616, 181, 1180),\n",
       " (0.35907723169508526, 179, 1182),\n",
       " (0.34580384226491406, 171, 1182),\n",
       " (0.3444782168186424, 170, 1183),\n",
       " (0.3360488798370672, 165, 1183),\n",
       " (0.33265306122448984, 163, 1183),\n",
       " (0.3295803480040942, 161, 1184),\n",
       " (0.32786885245901637, 160, 1184),\n",
       " (0.32682425488180883, 159, 1186),\n",
       " (0.3243801652892562, 157, 1189),\n",
       " (0.31775700934579443, 153, 1190),\n",
       " (0.31315240083507306, 150, 1192),\n",
       " (0.3060796645702306, 146, 1192),\n",
       " (0.3007360672975815, 143, 1192),\n",
       " (0.293558606124604, 139, 1192),\n",
       " (0.28994708994708995, 137, 1192),\n",
       " (0.28632025450689286, 135, 1192),\n",
       " (0.2774813233724653, 130, 1193),\n",
       " (0.27593582887700535, 129, 1194)]"
      ]
     },
     "execution_count": 1572,
     "metadata": {},
     "output_type": "execute_result"
    }
   ],
   "source": [
    "performance"
   ]
  },
  {
   "cell_type": "code",
   "execution_count": 97,
   "metadata": {},
   "outputs": [],
   "source": [
    "# test data\n",
    "test_data=open(\"X_test.txt\")\n",
    "testx=[]\n",
    "for line in test_data:\n",
    "    line=tokenize(line)\n",
    "    testx.append(line)\n",
    "#testx_=[]\n",
    "#for line in test_data:\n",
    " #   line=token_(line,bigram,unigram)\n",
    " #   testx_.append(line)"
   ]
  },
  {
   "cell_type": "code",
   "execution_count": 1749,
   "metadata": {},
   "outputs": [],
   "source": [
    "dictFeatures,dictFeaturesYes,dictFeaturesNo,Yes,No,Total,tweets=train(trainx+devx,trainy+devy)\n",
    "classes_nb=[]\n",
    "for i in testx:\n",
    "    classes_nb.append(classifier(i,dictFeaturesYes,dictFeaturesNo,Total,Yes,No,tweets,0.2))"
   ]
  },
  {
   "cell_type": "code",
   "execution_count": 1750,
   "metadata": {},
   "outputs": [
    {
     "data": {
      "text/plain": [
       "8001"
      ]
     },
     "execution_count": 1750,
     "metadata": {},
     "output_type": "execute_result"
    }
   ],
   "source": [
    "len(classes_nb)"
   ]
  },
  {
   "cell_type": "code",
   "execution_count": 1554,
   "metadata": {},
   "outputs": [],
   "source": [
    "import numpy as np\n",
    "import pandas as pd\n",
    "my_df = pd.DataFrame({\"Id\":list(range(8001)),\"Category\":classes})\n",
    "my_df.to_csv('my_csv.csv', header=[\"Id\",\"Category\"],index=False)"
   ]
  },
  {
   "cell_type": "code",
   "execution_count": 16,
   "metadata": {},
   "outputs": [],
   "source": [
    "# Logit regression\n",
    "# We gonna use trainx_ trainy devx_ devy testx_\n",
    "# Sigmoid X:numpy array (n*k) beta: parameters (k*1)\n",
    "def sigmoid(X,beta):\n",
    "    return 1/(1+np.exp(-csr_matrix.dot(X,np.transpose(beta))))"
   ]
  },
  {
   "cell_type": "code",
   "execution_count": 17,
   "metadata": {},
   "outputs": [
    {
     "data": {
      "text/plain": [
       "matrix([[0.99908895],\n",
       "        [0.98201379]])"
      ]
     },
     "execution_count": 17,
     "metadata": {},
     "output_type": "execute_result"
    }
   ],
   "source": [
    "a=np.matrix([[1,2,3],[1,2,0]])\n",
    "a=csr_matrix(a)\n",
    "beta=np.matrix([0,2,1])\n",
    "sigmoid(a,beta)\n",
    "#csr_matrix.dot(a,np.transpose(beta))"
   ]
  },
  {
   "cell_type": "code",
   "execution_count": 114,
   "metadata": {},
   "outputs": [],
   "source": [
    "# implement log-likelihood\n",
    "def log_likelihood(X,Y,beta):\n",
    "    Y=np.transpose(Y)\n",
    "    #lr=lr+csr_matrix.dot(beta,np.transpose(X[i]))-np.log(1+np.exp(csr_matrix.dot(beta,np.transpose(X[i]))))\n",
    "    lr=Y.dot(csr_matrix.dot(X,np.transpose(beta)))-sum(np.log(1+np.exp(csr_matrix.dot(X,np.transpose(beta)))))\n",
    "    return lr"
   ]
  },
  {
   "cell_type": "code",
   "execution_count": 51,
   "metadata": {},
   "outputs": [],
   "source": [
    "#def log_likelihood(X,Y,beta):\n",
    "    #lr=lr+csr_matrix.dot(beta,np.transpose(X[i]))-np.log(1+np.exp(csr_matrix.dot(beta,np.transpose(X[i]))))\n",
    " #   lr=0\n",
    "  #  for i in range(len(Y)):\n",
    "   #     lr=lr+Y[i]*csr_matrix.dot(beta,np.transpose(X[i]))-np.log(1+np.exp(csr_matrix.dot(beta,np.transpose(X[i]))))\n",
    "    #return lr"
   ]
  },
  {
   "cell_type": "code",
   "execution_count": 116,
   "metadata": {},
   "outputs": [],
   "source": [
    "#log_likelihood(a,np.matrix([[2],[2]]),beta)"
   ]
  },
  {
   "cell_type": "code",
   "execution_count": 54,
   "metadata": {},
   "outputs": [],
   "source": [
    "def computeGradient(x,y,beta):\n",
    "# x is a single value and y is the corresponding\n",
    "    # predicted y\n",
    "    y_=sigmoid(x,beta)\n",
    "    Gradient=(y-y_)*x\n",
    "   # print(Gradient)\n",
    "    return Gradient"
   ]
  },
  {
   "cell_type": "code",
   "execution_count": 55,
   "metadata": {},
   "outputs": [
    {
     "data": {
      "text/plain": [
       "1"
      ]
     },
     "execution_count": 55,
     "metadata": {},
     "output_type": "execute_result"
    }
   ],
   "source": [
    "import random\n",
    "random.choice([1,2,3])"
   ]
  },
  {
   "cell_type": "code",
   "execution_count": 109,
   "metadata": {},
   "outputs": [],
   "source": [
    "def logistic_regression(X,Y,beta,learning_rate,num_step):\n",
    "    lr=[]\n",
    "    for i in range(num_step):\n",
    "       # print(1)\n",
    "        j=random.choice(list(range(X.shape[0])))\n",
    "        #print(2)\n",
    "        beta=beta+learning_rate*computeGradient(X[j],Y[j],beta)\n",
    "        if i%100==0:\n",
    "            lr.append(float(log_likelihood(X,Y,beta)))\n",
    "        #print(4)\n",
    "    return beta,lr"
   ]
  },
  {
   "cell_type": "code",
   "execution_count": 67,
   "metadata": {},
   "outputs": [],
   "source": [
    "x=np.matrix([[1,2,3],[1,0,0],[1,2,3],[1,0,1]])\n",
    "beta=np.matrix([4,4,2])\n",
    "Y=np.array([1,0,0,0])\n",
    "beta,try_=logistic_regression(csr_matrix(x),Y,beta,0.1,1000)"
   ]
  },
  {
   "cell_type": "code",
   "execution_count": 68,
   "metadata": {},
   "outputs": [
    {
     "data": {
      "text/plain": [
       "[<matplotlib.lines.Line2D at 0x121979880>]"
      ]
     },
     "execution_count": 68,
     "metadata": {},
     "output_type": "execute_result"
    },
    {
     "data": {
      "image/png": "[encoded data removed]",
      "text/plain": [
       "<Figure size 432x288 with 1 Axes>"
      ]
     },
     "metadata": {
      "needs_background": "light"
     },
     "output_type": "display_data"
    }
   ],
   "source": [
    "pyt.plot(try_)"
   ]
  },
  {
   "cell_type": "code",
   "execution_count": 1673,
   "metadata": {},
   "outputs": [
    {
     "data": {
      "text/plain": [
       "2000"
      ]
     },
     "execution_count": 1673,
     "metadata": {},
     "output_type": "execute_result"
    }
   ],
   "source": [
    "len(try_)"
   ]
  },
  {
   "cell_type": "code",
   "execution_count": 1645,
   "metadata": {},
   "outputs": [
    {
     "data": {
      "text/plain": [
       "numpy.matrix"
      ]
     },
     "execution_count": 1645,
     "metadata": {},
     "output_type": "execute_result"
    }
   ],
   "source": [
    "type(X)"
   ]
  },
  {
   "cell_type": "code",
   "execution_count": 1802,
   "metadata": {},
   "outputs": [
    {
     "data": {
      "text/plain": [
       "10000"
      ]
     },
     "execution_count": 1802,
     "metadata": {},
     "output_type": "execute_result"
    }
   ],
   "source": [
    "t=\"2,4,5,6,9,11,15;20\"\n",
    "str(15)\n",
    "len(trainx)"
   ]
  },
  {
   "cell_type": "code",
   "execution_count": 92,
   "metadata": {},
   "outputs": [],
   "source": [
    "import collections\n",
    "def createX(trainx,devx,testx):\n",
    "    colnames=set()\n",
    "    for i in trainx:\n",
    "        for j in i: colnames.add(j)\n",
    "    for i in devx:\n",
    "        for j in i: colnames.add(j)\n",
    "    for i in testx:\n",
    "        for j in i: colnames.add(j)\n",
    "    colnames=list(colnames)\n",
    "    \n",
    "    dim_x=len(trainx)\n",
    "    dim_y=len(colnames)\n",
    "    X_train=np.zeros([dim_x,dim_y])\n",
    "    for i in range(dim_x):\n",
    "        dict_temp=collections.defaultdict(int)\n",
    "        for j in trainx[i]:\n",
    "            dict_temp[j]+=1\n",
    "        for j in range(dim_y):\n",
    "            X_train[i][j]=dict_temp[colnames[j]]\n",
    "    X_train=csr_matrix(X_train)\n",
    "    \n",
    "    dim_x1=len(devx)\n",
    "    X_dev=np.zeros([dim_x1,dim_y])\n",
    "    for i in range(dim_x1):\n",
    "        dict_temp=collections.defaultdict(int)\n",
    "        for j in devx[i]:\n",
    "            dict_temp[j]+=1\n",
    "        for j in range(dim_y):\n",
    "            X_dev[i][j]=dict_temp[colnames[j]]\n",
    "    X_dev=csr_matrix(X_dev)\n",
    "    \n",
    "    dim_x2=len(testx)\n",
    "    X_test=np.zeros([dim_x2,dim_y])\n",
    "    for i in range(dim_x2):\n",
    "        dict_temp=collections.defaultdict(int)\n",
    "        for j in testx[i]:\n",
    "            dict_temp[j]+=1\n",
    "        for j in range(dim_y):\n",
    "            X_test[i][j]=dict_temp[colnames[j]]\n",
    "    X_test=csr_matrix(X_test)\n",
    "    \n",
    "    return X_train,X_dev,X_test\n",
    "    "
   ]
  },
  {
   "cell_type": "code",
   "execution_count": 14,
   "metadata": {},
   "outputs": [
    {
     "data": {
      "text/plain": [
       "scipy.sparse.csr.csr_matrix"
      ]
     },
     "execution_count": 14,
     "metadata": {},
     "output_type": "execute_result"
    }
   ],
   "source": [
    "from scipy.sparse import csr_matrix\n",
    "a=np.matrix([[1,2,3]])\n",
    "y=csr_matrix(a)\n",
    "beta=csr_matrix(np.matrix([[1],[2],[3]]))\n",
    "temp=np.dot(y,beta)\n",
    "type(y)"
   ]
  },
  {
   "cell_type": "code",
   "execution_count": 93,
   "metadata": {},
   "outputs": [],
   "source": [
    "def accuracy(classes,y):\n",
    "    l,c=len(y),0\n",
    "    c1,c2=0,0\n",
    "    for i in range(l):\n",
    "        if classes[i]==y[i]: \n",
    "            c+=1\n",
    "            if classes[i]==1: c1+=1\n",
    "            else: c2+=1\n",
    "    return c/l,c1,c2"
   ]
  },
  {
   "cell_type": "code",
   "execution_count": null,
   "metadata": {},
   "outputs": [],
   "source": []
  },
  {
   "cell_type": "code",
   "execution_count": 155,
   "metadata": {},
   "outputs": [
    {
     "data": {
      "text/plain": [
       "(0.7835, 630, 937)"
      ]
     },
     "execution_count": 155,
     "metadata": {},
     "output_type": "execute_result"
    }
   ],
   "source": [
    "classes_dev=[]\n",
    "for i in X_dev:\n",
    "    classes_dev.append(predict(i,beta))\n",
    "accuracy(classes_dev,devy)"
   ]
  },
  {
   "cell_type": "code",
   "execution_count": 72,
   "metadata": {},
   "outputs": [],
   "source": [
    "def func(a):\n",
    "    if a>=0.5: return 1\n",
    "    else: return 0\n",
    "def predict(X,beta):\n",
    "    temp=sigmoid(X,beta)\n",
    "    fun=np.vectorize(func)\n",
    "    return fun(temp)   "
   ]
  },
  {
   "cell_type": "code",
   "execution_count": null,
   "metadata": {},
   "outputs": [],
   "source": []
  },
  {
   "cell_type": "code",
   "execution_count": 10,
   "metadata": {},
   "outputs": [],
   "source": [
    "import numpy as np\n",
    "# Create\n",
    "c=np.matrix([[1],[2],[3]])\n",
    "d=np.matrix([[2],[3],[4]])\n"
   ]
  },
  {
   "cell_type": "code",
   "execution_count": 98,
   "metadata": {},
   "outputs": [],
   "source": [
    "X,X_dev,X_test=createX(trainx,devx,testx)"
   ]
  },
  {
   "cell_type": "code",
   "execution_count": 94,
   "metadata": {},
   "outputs": [],
   "source": [
    "# convret y to array\n",
    "y_train=np.array(trainy)\n",
    "y_dev=np.array(devy)"
   ]
  },
  {
   "cell_type": "code",
   "execution_count": 128,
   "metadata": {},
   "outputs": [],
   "source": [
    "beta=np.matrix(np.zeros(X.shape[1]))\n",
    "#beta=csr_matrix(beta)\n",
    "learning_rate=0.1\n",
    "num_step=100000\n",
    "#sigmoid(X,beta)\n",
    "beta,lr=logistic_regression(X,y_train,beta,learning_rate,num_step)"
   ]
  },
  {
   "cell_type": "code",
   "execution_count": 129,
   "metadata": {},
   "outputs": [
    {
     "data": {
      "text/plain": [
       "[<matplotlib.lines.Line2D at 0x123487dc0>]"
      ]
     },
     "execution_count": 129,
     "metadata": {},
     "output_type": "execute_result"
    },
    {
     "data": {
      "image/png": "[encoded data removed]",
      "text/plain": [
       "<Figure size 432x288 with 1 Axes>"
      ]
     },
     "metadata": {
      "needs_background": "light"
     },
     "output_type": "display_data"
    }
   ],
   "source": [
    "pyt.plot(lr)"
   ]
  },
  {
   "cell_type": "code",
   "execution_count": 153,
   "metadata": {},
   "outputs": [],
   "source": [
    "beta_=np.matrix(np.zeros(X.shape[1]))\n",
    "#beta=csr_matrix(beta)\n",
    "learning_rate=0.01\n",
    "num_step=1000\n",
    "#sigmoid(X,beta)\n",
    "beta_,lr_=logistic_regression(X,y_train,beta_,learning_rate,num_step)"
   ]
  },
  {
   "cell_type": "code",
   "execution_count": 154,
   "metadata": {},
   "outputs": [
    {
     "data": {
      "text/plain": [
       "[<matplotlib.lines.Line2D at 0x123a5e490>]"
      ]
     },
     "execution_count": 154,
     "metadata": {},
     "output_type": "execute_result"
    },
    {
     "data": {
      "image/png": "[encoded data removed]",
      "text/plain": [
       "<Figure size 432x288 with 1 Axes>"
      ]
     },
     "metadata": {
      "needs_background": "light"
     },
     "output_type": "display_data"
    }
   ],
   "source": [
    "pyt.plot(lr_)"
   ]
  },
  {
   "cell_type": "code",
   "execution_count": 1836,
   "metadata": {},
   "outputs": [],
   "source": [
    "#X_test=createX(testx,trainx,devx)\n",
    "classes_test=[]\n",
    "for i in X_test:\n",
    "    classes_test.append(predict(i,paras))"
   ]
  },
  {
   "cell_type": "code",
   "execution_count": 1837,
   "metadata": {},
   "outputs": [],
   "source": [
    "classes_=list()\n",
    "for i in classes_test:\n",
    "    classes_.append(int(i))"
   ]
  },
  {
   "cell_type": "code",
   "execution_count": 1838,
   "metadata": {},
   "outputs": [],
   "source": [
    "my_df = pd.DataFrame({\"Id\":list(range(8001)),\"Category\":classes_})\n",
    "my_df.to_csv('lr.csv', header=[\"Id\",\"Category\"],index=False)"
   ]
  },
  {
   "cell_type": "code",
   "execution_count": null,
   "metadata": {},
   "outputs": [],
   "source": []
  },
  {
   "cell_type": "code",
   "execution_count": 1855,
   "metadata": {},
   "outputs": [],
   "source": [
    "train_x=open(\"X_train.txt\")\n",
    "train_y=open(\"y_train.txt\")\n",
    "test_x=open(\"X_test.txt\")\n",
    "dev_x=open(\"X_dev.txt\")\n",
    "dev_y=open(\"y_dev.txt\")\n",
    "trainx_=list()\n",
    "for line in train_x:\n",
    "    line=better_tokenize(line)\n",
    "    trainx_.append(line)\n",
    "# Development\n",
    "devx_,testx_=list(),list()\n",
    "for line in dev_x:\n",
    "    line=better_tokenize(line)\n",
    "    devx_.append(line)\n",
    "for line in test_x:\n",
    "    line=better_tokenize(line)\n",
    "    testx_.append(line)\n",
    "X2,X2_dev,X2_test=createX(trainx_,devx_,testx_)"
   ]
  },
  {
   "cell_type": "code",
   "execution_count": 106,
   "metadata": {},
   "outputs": [
    {
     "ename": "NameError",
     "evalue": "name 'X2' is not defined",
     "output_type": "error",
     "traceback": [
      "\u001b[0;31m---------------------------------------------------------------------------\u001b[0m",
      "\u001b[0;31mNameError\u001b[0m                                 Traceback (most recent call last)",
      "\u001b[0;32m<ipython-input-106-5011c78c1633>\u001b[0m in \u001b[0;36m<module>\u001b[0;34m\u001b[0m\n\u001b[0;32m----> 1\u001b[0;31m \u001b[0mbeta2\u001b[0m\u001b[0;34m=\u001b[0m\u001b[0mnp\u001b[0m\u001b[0;34m.\u001b[0m\u001b[0mmatrix\u001b[0m\u001b[0;34m(\u001b[0m\u001b[0mnp\u001b[0m\u001b[0;34m.\u001b[0m\u001b[0mzeros\u001b[0m\u001b[0;34m(\u001b[0m\u001b[0mX2\u001b[0m\u001b[0;34m.\u001b[0m\u001b[0mshape\u001b[0m\u001b[0;34m[\u001b[0m\u001b[0;36m1\u001b[0m\u001b[0;34m]\u001b[0m\u001b[0;34m)\u001b[0m\u001b[0;34m)\u001b[0m\u001b[0;34m\u001b[0m\u001b[0;34m\u001b[0m\u001b[0m\n\u001b[0m\u001b[1;32m      2\u001b[0m \u001b[0;31m#beta=csr_matrix(beta)\u001b[0m\u001b[0;34m\u001b[0m\u001b[0;34m\u001b[0m\u001b[0;34m\u001b[0m\u001b[0m\n\u001b[1;32m      3\u001b[0m \u001b[0mlearning_rate\u001b[0m\u001b[0;34m=\u001b[0m\u001b[0;36m0.8\u001b[0m\u001b[0;34m\u001b[0m\u001b[0;34m\u001b[0m\u001b[0m\n\u001b[1;32m      4\u001b[0m \u001b[0mnum_step\u001b[0m\u001b[0;34m=\u001b[0m\u001b[0;36m20\u001b[0m\u001b[0;34m\u001b[0m\u001b[0;34m\u001b[0m\u001b[0m\n\u001b[1;32m      5\u001b[0m \u001b[0;31m#sigmoid(X,beta)\u001b[0m\u001b[0;34m\u001b[0m\u001b[0;34m\u001b[0m\u001b[0;34m\u001b[0m\u001b[0m\n",
      "\u001b[0;31mNameError\u001b[0m: name 'X2' is not defined"
     ]
    }
   ],
   "source": [
    "beta2=np.matrix(np.zeros(X2.shape[1]))\n",
    "#beta=csr_matrix(beta)\n",
    "learning_rate=0.8\n",
    "num_step=20\n",
    "#sigmoid(X,beta)\n",
    "beta2=logistic_regression(X2,y_train,beta2,learning_rate,num_step)"
   ]
  },
  {
   "cell_type": "code",
   "execution_count": 1860,
   "metadata": {},
   "outputs": [
    {
     "data": {
      "text/plain": [
       "(0.7615, 654, 869)"
      ]
     },
     "execution_count": 1860,
     "metadata": {},
     "output_type": "execute_result"
    }
   ],
   "source": [
    "classes_dev2=[]\n",
    "for i in X2_dev:\n",
    "    classes_dev2.append(predict(i,beta2))\n",
    "accuracy(classes_dev2,devy)"
   ]
  },
  {
   "cell_type": "code",
   "execution_count": 1862,
   "metadata": {},
   "outputs": [],
   "source": [
    "classes_test2=[]\n",
    "for i in X2_test:\n",
    "    classes_test2.append(predict(i,beta2))\n",
    "classes2_=list()\n",
    "for i in classes_test2:\n",
    "    classes2_.append(int(i))\n",
    "my_df = pd.DataFrame({\"Id\":list(range(8001)),\"Category\":classes2_})\n",
    "my_df.to_csv('lr2.csv', header=[\"Id\",\"Category\"],index=False)"
   ]
  },
  {
   "cell_type": "code",
   "execution_count": null,
   "metadata": {},
   "outputs": [],
   "source": []
  }
 ],
 "metadata": {
  "kernelspec": {
   "display_name": "Python 3",
   "language": "python",
   "name": "python3"
  },
  "language_info": {
   "codemirror_mode": {
    "name": "ipython",
    "version": 3
   },
   "file_extension": ".py",
   "mimetype": "text/x-python",
   "name": "python",
   "nbconvert_exporter": "python",
   "pygments_lexer": "ipython3",
   "version": "3.8.1"
  }
 },
 "nbformat": 4,
 "nbformat_minor": 4
}
